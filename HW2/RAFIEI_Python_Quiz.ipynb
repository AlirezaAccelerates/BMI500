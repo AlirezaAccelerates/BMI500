{
 "cells": [
  {
   "cell_type": "markdown",
   "id": "e6ee10f4",
   "metadata": {},
   "source": [
    "# BMI 500 Python Tutorial Assessment\n",
    "Alireza Rafiei - Fall 2022 - HW2"
   ]
  },
  {
   "cell_type": "markdown",
   "id": "fa4a5710",
   "metadata": {},
   "source": [
    "* #### Problem #1: \n",
    "Write a function in Python 3.x that, given an integer n, returns the sum of\n",
    "the first n terms of the series in the Leibniz formula."
   ]
  },
  {
   "cell_type": "code",
   "execution_count": 1,
   "id": "d8b809fe",
   "metadata": {},
   "outputs": [],
   "source": [
    "# Initialization\n",
    "import numpy as np\n",
    "errors = dict()\n",
    "times = dict()"
   ]
  },
  {
   "cell_type": "code",
   "execution_count": 2,
   "id": "1551e3eb",
   "metadata": {},
   "outputs": [],
   "source": [
    "# Description: Leibniz Formula using For loop and (-1)^n\n",
    "def leibniz(n):\n",
    "  SumSeries = 0                               # Initializing Sum\n",
    "  for i in range(n):                          # Iterating from 0 to N\n",
    "    SumSeries += (-1) ** i / (2*i + 1)        # Adding new terms\n",
    "  return SumSeries"
   ]
  },
  {
   "cell_type": "markdown",
   "id": "7000e4f2",
   "metadata": {},
   "source": [
    "An example for problem #1"
   ]
  },
  {
   "cell_type": "code",
   "execution_count": 3,
   "id": "bc0b910f",
   "metadata": {},
   "outputs": [],
   "source": [
    "errors[\"P1\"] = np.pi - 4*leibniz(1000)"
   ]
  },
  {
   "cell_type": "code",
   "execution_count": 4,
   "id": "47a5f6eb",
   "metadata": {},
   "outputs": [
    {
     "name": "stdout",
     "output_type": "stream",
     "text": [
      "555 µs ± 24.2 µs per loop (mean ± std. dev. of 7 runs, 1000 loops each)\n"
     ]
    },
    {
     "data": {
      "text/plain": [
       "<TimeitResult : 555 µs ± 24.2 µs per loop (mean ± std. dev. of 7 runs, 1000 loops each)>"
      ]
     },
     "execution_count": 4,
     "metadata": {},
     "output_type": "execute_result"
    }
   ],
   "source": [
    "%%timeit -o \n",
    "leibniz(1000)\n",
    "times[\"P1\"] = _"
   ]
  },
  {
   "cell_type": "markdown",
   "id": "bf29e6e6",
   "metadata": {},
   "source": [
    "#### Problem #2: \n",
    "For each of the following items, write a function in Python 3.x that, given an\n",
    "integer n, returns the sum of the first n terms of the series in the Leibniz formula."
   ]
  },
  {
   "cell_type": "markdown",
   "id": "6d316104",
   "metadata": {},
   "source": [
    "#### Part a)\n",
    "Use a for-loop and an if-statement with the modulo operator % to determine whether\n",
    "to add or subtract each term."
   ]
  },
  {
   "cell_type": "code",
   "execution_count": 5,
   "id": "0dc52194",
   "metadata": {},
   "outputs": [],
   "source": [
    "# Description: Leibniz Formula using For loop and modulo operator\n",
    "def leibniz_2a(n):\n",
    "  SumSeries = 0                   # Initializing Sum\n",
    "  for i in range(n):              # Iterating from 0 to N\n",
    "    term = 1 / (2*i + 1)\n",
    "    if i % 2 != 0:                # Determining sign of the term\n",
    "      term = -term\n",
    "    SumSeries += term             # Adding new terms\n",
    "  return SumSeries"
   ]
  },
  {
   "cell_type": "markdown",
   "id": "30aa8e1f",
   "metadata": {},
   "source": [
    "An example for problem #2-a"
   ]
  },
  {
   "cell_type": "code",
   "execution_count": 6,
   "id": "b6a5f866",
   "metadata": {},
   "outputs": [],
   "source": [
    "errors[\"P2a\"] = np.pi - 4*leibniz_2a(1000)"
   ]
  },
  {
   "cell_type": "code",
   "execution_count": 7,
   "id": "795da531",
   "metadata": {},
   "outputs": [
    {
     "name": "stdout",
     "output_type": "stream",
     "text": [
      "277 µs ± 24.2 µs per loop (mean ± std. dev. of 7 runs, 1000 loops each)\n"
     ]
    },
    {
     "data": {
      "text/plain": [
       "<TimeitResult : 277 µs ± 24.2 µs per loop (mean ± std. dev. of 7 runs, 1000 loops each)>"
      ]
     },
     "execution_count": 7,
     "metadata": {},
     "output_type": "execute_result"
    }
   ],
   "source": [
    "%%timeit -o \n",
    "leibniz_2a(1000)\n",
    "times[\"P2a\"] = _"
   ]
  },
  {
   "cell_type": "markdown",
   "id": "2d9ae4e9",
   "metadata": {},
   "source": [
    "#### Part b) \n",
    "Use a for-loop with the quantity (-1)**n to determine whether to add or subtract\n",
    "each term."
   ]
  },
  {
   "cell_type": "code",
   "execution_count": 8,
   "id": "d05df05a",
   "metadata": {},
   "outputs": [],
   "source": [
    "# Description: Leibniz Formula using For loop and (-1)**n\n",
    "def leibniz_2b(n):\n",
    "  SumSeries = 0                               # Initializing Sum\n",
    "  for i in range(n):                          # Iterating from 0 to N\n",
    "    SumSeries += (-1) ** i / (2*i + 1)        # Adding new term\n",
    "  return SumSeries"
   ]
  },
  {
   "cell_type": "markdown",
   "id": "d116fba2",
   "metadata": {},
   "source": [
    "An example for problem #2-b"
   ]
  },
  {
   "cell_type": "code",
   "execution_count": 9,
   "id": "96c38fcb",
   "metadata": {},
   "outputs": [],
   "source": [
    "errors[\"P2b\"] = np.pi - 4*leibniz_2b(1000)"
   ]
  },
  {
   "cell_type": "code",
   "execution_count": 10,
   "id": "03abe071",
   "metadata": {},
   "outputs": [
    {
     "name": "stdout",
     "output_type": "stream",
     "text": [
      "588 µs ± 28.5 µs per loop (mean ± std. dev. of 7 runs, 1000 loops each)\n"
     ]
    },
    {
     "data": {
      "text/plain": [
       "<TimeitResult : 588 µs ± 28.5 µs per loop (mean ± std. dev. of 7 runs, 1000 loops each)>"
      ]
     },
     "execution_count": 10,
     "metadata": {},
     "output_type": "execute_result"
    }
   ],
   "source": [
    "%%timeit -o \n",
    "leibniz_2b(1000)\n",
    "times[\"P2b\"] = _"
   ]
  },
  {
   "cell_type": "markdown",
   "id": "893aa95f",
   "metadata": {},
   "source": [
    "#### Part c) \n",
    "Construct a Python list and compute the sum of the terms in the list."
   ]
  },
  {
   "cell_type": "code",
   "execution_count": 11,
   "id": "589dcadc",
   "metadata": {},
   "outputs": [],
   "source": [
    "# Description: Leibniz Formula using a list\n",
    "def leibniz_2c(n):\n",
    "  list = []                                       # Initializing list\n",
    "  for i in range(n):                              # Iterating from 0 to N\n",
    "    list.append((-1) ** i / (2*i + 1))       # Appending new terms\n",
    "  SumSeries = sum(list)                      # Sum elements of the list\n",
    "  return SumSeries"
   ]
  },
  {
   "cell_type": "markdown",
   "id": "b1e3b107",
   "metadata": {},
   "source": [
    "An example for problem #2-c"
   ]
  },
  {
   "cell_type": "code",
   "execution_count": 12,
   "id": "2e6dc34e",
   "metadata": {},
   "outputs": [],
   "source": [
    "errors[\"P2c\"] = np.pi - 4*leibniz_2c(1000)"
   ]
  },
  {
   "cell_type": "code",
   "execution_count": 13,
   "id": "45d7561d",
   "metadata": {},
   "outputs": [
    {
     "name": "stdout",
     "output_type": "stream",
     "text": [
      "608 µs ± 22.4 µs per loop (mean ± std. dev. of 7 runs, 1000 loops each)\n"
     ]
    },
    {
     "data": {
      "text/plain": [
       "<TimeitResult : 608 µs ± 22.4 µs per loop (mean ± std. dev. of 7 runs, 1000 loops each)>"
      ]
     },
     "execution_count": 13,
     "metadata": {},
     "output_type": "execute_result"
    }
   ],
   "source": [
    "%%timeit -o \n",
    "leibniz_2c(1000)\n",
    "times[\"P2c\"] = _"
   ]
  },
  {
   "cell_type": "markdown",
   "id": "42836c16",
   "metadata": {},
   "source": [
    "#### Part d) \n",
    "Construct a Python set and compute the sum of the terms in the set."
   ]
  },
  {
   "cell_type": "code",
   "execution_count": 14,
   "id": "cff83552",
   "metadata": {},
   "outputs": [],
   "source": [
    "# Description: Leibniz Formula using a Set\n",
    "def leibniz_2d(n):\n",
    "  Set = set()                             # Initializing set\n",
    "  for i in range(n):                      # Iterating from 0 to N\n",
    "    Set.add((-1) ** i / (2*i + 1))        # Adding new terms\n",
    "  SumSeries = sum(Set)                    # Sum elements of the set\n",
    "  return SumSeries"
   ]
  },
  {
   "cell_type": "markdown",
   "id": "9ba84ff1",
   "metadata": {},
   "source": [
    "An example for problem #2-d"
   ]
  },
  {
   "cell_type": "code",
   "execution_count": 15,
   "id": "b8ea55e5",
   "metadata": {},
   "outputs": [],
   "source": [
    "errors[\"P2d\"] = np.pi - 4*leibniz_2d(1000)"
   ]
  },
  {
   "cell_type": "code",
   "execution_count": 16,
   "id": "debfb91a",
   "metadata": {},
   "outputs": [
    {
     "name": "stdout",
     "output_type": "stream",
     "text": [
      "677 µs ± 12.4 µs per loop (mean ± std. dev. of 7 runs, 1000 loops each)\n"
     ]
    },
    {
     "data": {
      "text/plain": [
       "<TimeitResult : 677 µs ± 12.4 µs per loop (mean ± std. dev. of 7 runs, 1000 loops each)>"
      ]
     },
     "execution_count": 16,
     "metadata": {},
     "output_type": "execute_result"
    }
   ],
   "source": [
    "%%timeit -o \n",
    "leibniz_2d(1000)\n",
    "times[\"P2d\"] = _"
   ]
  },
  {
   "cell_type": "markdown",
   "id": "0599339b",
   "metadata": {},
   "source": [
    "#### Part e) \n",
    "Construct a Python dictionary and compute the sum of the terms in the dictionary."
   ]
  },
  {
   "cell_type": "code",
   "execution_count": 17,
   "id": "bf4d3306",
   "metadata": {},
   "outputs": [],
   "source": [
    "# Description: Leibniz Formula using a Dictionary\n",
    "def leibniz_2e(n):\n",
    "  Dict = {}                                   # Initializing dictionary\n",
    "  for i in range(n):                          # Iterating from 0 to N\n",
    "    Dict[str(i)] = (-1) ** i / (2*i + 1)      # Adding new term\n",
    "  SumSeries = sum(list(Dict.values()))        # Sum values of the dictionary\n",
    "  return SumSeries"
   ]
  },
  {
   "cell_type": "markdown",
   "id": "68100dbd",
   "metadata": {},
   "source": [
    "An example for problem #2-e"
   ]
  },
  {
   "cell_type": "code",
   "execution_count": 18,
   "id": "8f8612de",
   "metadata": {},
   "outputs": [],
   "source": [
    "errors[\"P2e\"] = np.pi - 4*leibniz_2e(1000)"
   ]
  },
  {
   "cell_type": "code",
   "execution_count": 19,
   "id": "5c8a3d01",
   "metadata": {},
   "outputs": [
    {
     "name": "stdout",
     "output_type": "stream",
     "text": [
      "859 µs ± 18.6 µs per loop (mean ± std. dev. of 7 runs, 1000 loops each)\n"
     ]
    },
    {
     "data": {
      "text/plain": [
       "<TimeitResult : 859 µs ± 18.6 µs per loop (mean ± std. dev. of 7 runs, 1000 loops each)>"
      ]
     },
     "execution_count": 19,
     "metadata": {},
     "output_type": "execute_result"
    }
   ],
   "source": [
    "%%timeit -o \n",
    "leibniz_2e(1000)\n",
    "times[\"P2e\"] = _"
   ]
  },
  {
   "cell_type": "markdown",
   "id": "16a6e464",
   "metadata": {},
   "source": [
    "#### Part f) \n",
    "Construct a NumPy array and compute the sum of the terms in the array."
   ]
  },
  {
   "cell_type": "code",
   "execution_count": 20,
   "id": "33c22035",
   "metadata": {},
   "outputs": [],
   "source": [
    "# Description: Leibniz Formula using a NumPy array\n",
    "def leibniz_2f(n):\n",
    "  list = []                                  # Initializing list\n",
    "  for i in range(n):                         # Iterating from 0 to N\n",
    "    list.append((-1) ** i / (2*i + 1))       # Appending new term\n",
    "  array = np.array(list)                     # Creating NumPy Array\n",
    "  SumSeries = np.sum(array)                  # Sum values of the array\n",
    "  return SumSeries"
   ]
  },
  {
   "cell_type": "markdown",
   "id": "fc157e8a",
   "metadata": {},
   "source": [
    "An example for problem #2-f"
   ]
  },
  {
   "cell_type": "code",
   "execution_count": 21,
   "id": "1e7283a6",
   "metadata": {},
   "outputs": [],
   "source": [
    "errors[\"P2f\"] = np.pi - 4*leibniz_2f(1000)"
   ]
  },
  {
   "cell_type": "code",
   "execution_count": 22,
   "id": "d28af4a8",
   "metadata": {},
   "outputs": [
    {
     "name": "stdout",
     "output_type": "stream",
     "text": [
      "644 µs ± 18.9 µs per loop (mean ± std. dev. of 7 runs, 1000 loops each)\n"
     ]
    },
    {
     "data": {
      "text/plain": [
       "<TimeitResult : 644 µs ± 18.9 µs per loop (mean ± std. dev. of 7 runs, 1000 loops each)>"
      ]
     },
     "execution_count": 22,
     "metadata": {},
     "output_type": "execute_result"
    }
   ],
   "source": [
    "%%timeit -o \n",
    "leibniz_2f(1000)\n",
    "times[\"P2f\"] = _"
   ]
  },
  {
   "cell_type": "markdown",
   "id": "f507ee87",
   "metadata": {},
   "source": [
    "#### Part g) \n",
    "Construct a NumPy array, use array indexing to compute the sum of the positive terms\n",
    "in the array, use array indexing to compute the sum of the negative terms in the array,\n",
    "and add the two sums together. You can write x[::2] to access the first, third, etc.\n",
    "terms and x[1::2] to access the second, fourth, etc. terms."
   ]
  },
  {
   "cell_type": "code",
   "execution_count": 23,
   "id": "df388e6e",
   "metadata": {},
   "outputs": [],
   "source": [
    "''' Description: Leibniz Formula using a NumPy array\n",
    "and adding positive terms and negative terms independently'''\n",
    "def leibniz_2g(n):\n",
    "  list = []                                 # Initializing list\n",
    "  for i in range(n):                        # Iterating from 0 to N\n",
    "    list.append((-1) ** i / (2*i + 1))      # Appending new term\n",
    "  array = np.array(list)                    # Creating NumPy Array\n",
    "  SumPositives = np.sum(array[::2])\n",
    "  SumNegatives = np.sum(array[1::2])\n",
    "  SumSeries = SumPositives + SumNegatives   # Final Summation\n",
    "  return SumSeries"
   ]
  },
  {
   "cell_type": "markdown",
   "id": "0f86e7bd",
   "metadata": {},
   "source": [
    "An example for problem #2-g"
   ]
  },
  {
   "cell_type": "code",
   "execution_count": 24,
   "id": "91937daf",
   "metadata": {},
   "outputs": [],
   "source": [
    "errors[\"P2g\"] = np.pi - 4*leibniz_2g(1000)"
   ]
  },
  {
   "cell_type": "code",
   "execution_count": 25,
   "id": "bfeec2ae",
   "metadata": {},
   "outputs": [
    {
     "name": "stdout",
     "output_type": "stream",
     "text": [
      "686 µs ± 25.7 µs per loop (mean ± std. dev. of 7 runs, 1000 loops each)\n"
     ]
    },
    {
     "data": {
      "text/plain": [
       "<TimeitResult : 686 µs ± 25.7 µs per loop (mean ± std. dev. of 7 runs, 1000 loops each)>"
      ]
     },
     "execution_count": 25,
     "metadata": {},
     "output_type": "execute_result"
    }
   ],
   "source": [
    "%%timeit -o \n",
    "leibniz_2g(1000)\n",
    "times[\"P2g\"] = _"
   ]
  },
  {
   "cell_type": "markdown",
   "id": "3d70bd54",
   "metadata": {},
   "source": [
    "#### Part j) \n",
    "Combine the first and second terms, the third and fourth terms, etc. to change this\n",
    "series from an alternating to a non-alternating series and compute the sum of the\n",
    "combined terms."
   ]
  },
  {
   "cell_type": "code",
   "execution_count": 26,
   "id": "fab52f8c",
   "metadata": {},
   "outputs": [],
   "source": [
    "# Description: Leibniz Formula using combination\n",
    "def leibniz_2j(n):\n",
    "  # Combining adjacent pairs\n",
    "  list = []                                                               # Initializing list\n",
    "  for i in range(n):                                                      # Iterating from 0 to N\n",
    "    list.append((-1) ** i / (2*i + 1))                                    # Appending new term\n",
    "  if len(list) % 2 != 0:                                                  # The number of positive elements and negative elements must be the same\n",
    "    list.append(0)\n",
    "  CombinedArray = np.add(np.array(list[::2]), np.array(list[1::2]))       # Creating Array\n",
    "  SumSeries = np.sum(CombinedArray)                                       # Sum values of the array\n",
    "  return SumSeries"
   ]
  },
  {
   "cell_type": "markdown",
   "id": "1f937843",
   "metadata": {},
   "source": [
    "An example for problem #2-j"
   ]
  },
  {
   "cell_type": "code",
   "execution_count": 27,
   "id": "a4572744",
   "metadata": {},
   "outputs": [],
   "source": [
    "errors[\"P2j\"] = np.pi - 4*leibniz_2j(1000)"
   ]
  },
  {
   "cell_type": "code",
   "execution_count": 28,
   "id": "301c730e",
   "metadata": {},
   "outputs": [
    {
     "name": "stdout",
     "output_type": "stream",
     "text": [
      "682 µs ± 12.3 µs per loop (mean ± std. dev. of 7 runs, 1000 loops each)\n"
     ]
    },
    {
     "data": {
      "text/plain": [
       "<TimeitResult : 682 µs ± 12.3 µs per loop (mean ± std. dev. of 7 runs, 1000 loops each)>"
      ]
     },
     "execution_count": 28,
     "metadata": {},
     "output_type": "execute_result"
    }
   ],
   "source": [
    "%%timeit -o \n",
    "leibniz_2j(1000)\n",
    "times[\"P2j\"] = _"
   ]
  },
  {
   "cell_type": "markdown",
   "id": "4a6cbcf0",
   "metadata": {},
   "source": [
    "#### Problem #3: \n",
    "Which of these implementations of the Leibniz formula is the most accurate,\n",
    "fastest, and/or clearest? Which function would you use to calculate π (and why)? You can\n",
    "use the. built-in constants math.pi or np.pi for assessing the accuracy of your functions\n",
    "and the time package or the %timeit command for timing."
   ]
  },
  {
   "cell_type": "code",
   "execution_count": 29,
   "id": "13e3543e",
   "metadata": {},
   "outputs": [
    {
     "data": {
      "text/plain": [
       "[('P2d', 0.0009999997499949842),\n",
       " ('P1', 0.000999999749998981),\n",
       " ('P2a', 0.000999999749998981),\n",
       " ('P2b', 0.000999999749998981),\n",
       " ('P2c', 0.000999999749998981),\n",
       " ('P2e', 0.000999999749998981),\n",
       " ('P2j', 0.000999999749998981),\n",
       " ('P2f', 0.0009999997500012014),\n",
       " ('P2g', 0.0009999997500029778)]"
      ]
     },
     "execution_count": 29,
     "metadata": {},
     "output_type": "execute_result"
    }
   ],
   "source": [
    "sorted(errors.items(), key=lambda x: x[1])"
   ]
  },
  {
   "cell_type": "code",
   "execution_count": 32,
   "id": "e7b6e638",
   "metadata": {},
   "outputs": [
    {
     "name": "stdout",
     "output_type": "stream",
     "text": [
      " \n",
      " 555 µs ± 24.2 µs per loop (mean ± std. dev. of 7 runs, 1000 loops each) \n",
      " 277 µs ± 24.2 µs per loop (mean ± std. dev. of 7 runs, 1000 loops each) \n",
      " 588 µs ± 28.5 µs per loop (mean ± std. dev. of 7 runs, 1000 loops each) \n",
      " 608 µs ± 22.4 µs per loop (mean ± std. dev. of 7 runs, 1000 loops each) \n",
      " 677 µs ± 12.4 µs per loop (mean ± std. dev. of 7 runs, 1000 loops each) \n",
      " 859 µs ± 18.6 µs per loop (mean ± std. dev. of 7 runs, 1000 loops each) \n",
      " 644 µs ± 18.9 µs per loop (mean ± std. dev. of 7 runs, 1000 loops each) \n",
      " 644 µs ± 18.9 µs per loop (mean ± std. dev. of 7 runs, 1000 loops each) \n",
      "\n"
     ]
    }
   ],
   "source": [
    "print(times[\"P1\"],\"\\n\",times[\"P2a\"],\"\\n\",times[\"P2b\"],\"\\n\",times[\"P2c\"],\"\\n\",times[\"P2d\"],\"\\n\",times[\"P2e\"],\"\\n\",times[\"P2f\"],\"\\n\",times[\"P2g\"],\"\\n\",times[\"P2g\"],\"\\n\")"
   ]
  },
  {
   "cell_type": "markdown",
   "id": "bcc818d3",
   "metadata": {},
   "source": [
    "#### Answare: \n",
    "    Based on the implemetations, the accuracy obtained with different methods was fairly similar and have a negligible difference. The fastest implementation was (a). For this reason, I would use (a) to calculate π. The clearest and most intuitive implementation for me was the problem #1."
   ]
  },
  {
   "cell_type": "code",
   "execution_count": 33,
   "id": "01a1c7ab",
   "metadata": {},
   "outputs": [
    {
     "data": {
      "image/png": "[encoded data removed]",
      "text/plain": [
       "<Figure size 1440x720 with 2 Axes>"
      ]
     },
     "metadata": {
      "needs_background": "light"
     },
     "output_type": "display_data"
    }
   ],
   "source": [
    "# Plot absolute error in sum as a function of the number of terms in the sum\n",
    "# Total number of terms = n\n",
    "\n",
    "import matplotlib.pyplot as plt\n",
    "calcList = []\n",
    "def Plot(n):\n",
    "    terms = np.arange(1,n+1)\n",
    "    error = [np.abs(np.pi - 4*leibniz_2a(i)) for i in range(n)]\n",
    "\n",
    "\n",
    "    plt.figure(figsize=(20,10))\n",
    "    plt.subplot(1,2,1)     \n",
    "    plt.title('Leibniz formula error',fontsize=20)\n",
    "    plt.plot(terms,error,'g-*')\n",
    "    plt.xlabel('Number of terms',fontsize=16)\n",
    "    plt.ylabel('Absolute error',fontsize=16)\n",
    "    # Log scale\n",
    "    plt.subplot(1,2,2)                                    \n",
    "    plt.title('Leibniz formula error (log)',fontsize=20)\n",
    "    plt.plot(terms,error,'g-*')\n",
    "    plt.yscale('log')\n",
    "    plt.xscale('log')\n",
    "    plt.xlabel('Number of terms',fontsize=16)\n",
    "    plt.ylabel('Absolute error',fontsize=16)\n",
    "\n",
    "    #plt.savefig('leibniz_plot.png')\n",
    "    \n",
    "    return plt\n",
    "\n",
    "Fig = Plot(100)"
   ]
  },
  {
   "cell_type": "markdown",
   "id": "116c0ab1",
   "metadata": {},
   "source": [
    "#### Problem #5: \n",
    "Would you do anything differently for computing π using the Leibniz formula\n",
    "if you were using Matlab instead of Python?"
   ]
  },
  {
   "cell_type": "markdown",
   "id": "e0ed648c",
   "metadata": {},
   "source": [
    "Yes. Due to Matlab considers a dynamic allocation to variables, users should create an array with a corresponding length in case they want to calculate results. So, I would pre-allocate the memory needed for such an array using a related (e.g. zeros) function."
   ]
  }
 ],
 "metadata": {
  "kernelspec": {
   "display_name": "Python 3",
   "language": "python",
   "name": "python3"
  },
  "language_info": {
   "codemirror_mode": {
    "name": "ipython",
    "version": 3
   },
   "file_extension": ".py",
   "mimetype": "text/x-python",
   "name": "python",
   "nbconvert_exporter": "python",
   "pygments_lexer": "ipython3",
   "version": "3.7.3"
  }
 },
 "nbformat": 4,
 "nbformat_minor": 5
}
