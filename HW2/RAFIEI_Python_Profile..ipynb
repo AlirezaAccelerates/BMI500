{
 "cells": [
  {
   "cell_type": "code",
   "execution_count": 1,
   "id": "b443e8e9",
   "metadata": {},
   "outputs": [
    {
     "name": "stdout",
     "output_type": "stream",
     "text": [
      "         4 function calls in 0.001 seconds\n",
      "\n",
      "   Ordered by: standard name\n",
      "\n",
      "   ncalls  tottime  percall  cumtime  percall filename:lineno(function)\n",
      "        1    0.001    0.001    0.001    0.001 <ipython-input-1-f5bc5c32e04a>:5(leibniz)\n",
      "        1    0.000    0.000    0.001    0.001 <string>:1(<module>)\n",
      "        1    0.000    0.000    0.001    0.001 {built-in method builtins.exec}\n",
      "        1    0.000    0.000    0.000    0.000 {method 'disable' of '_lsprof.Profiler' objects}\n",
      "\n",
      "\n"
     ]
    }
   ],
   "source": [
    "# An example to profile a function using cProfile library\n",
    "\n",
    "import cProfile\n",
    "\n",
    "def leibniz(n):                               # Leibniz Formula using for loop and (-1)^n\n",
    "  SumSeries = 0                               # Initializing Sum\n",
    "  for i in range(n):                          # Iterating from 0 to N\n",
    "    SumSeries += (-1) ** i / (2*i + 1)        # Adding new terms\n",
    "  return SumSeries\n",
    "\n",
    "\n",
    "\n",
    "cProfile.run('leibniz(1000)')"
   ]
  },
  {
   "cell_type": "code",
   "execution_count": null,
   "id": "0eb14f82",
   "metadata": {},
   "outputs": [],
   "source": []
  }
 ],
 "metadata": {
  "kernelspec": {
   "display_name": "Python 3",
   "language": "python",
   "name": "python3"
  },
  "language_info": {
   "codemirror_mode": {
    "name": "ipython",
    "version": 3
   },
   "file_extension": ".py",
   "mimetype": "text/x-python",
   "name": "python",
   "nbconvert_exporter": "python",
   "pygments_lexer": "ipython3",
   "version": "3.7.3"
  }
 },
 "nbformat": 4,
 "nbformat_minor": 5
}
