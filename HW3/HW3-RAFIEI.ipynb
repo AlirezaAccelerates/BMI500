{
 "cells": [
  {
   "cell_type": "markdown",
   "id": "cb231dc4",
   "metadata": {},
   "source": [
    "# BMI 500 Python Bootcamp\n",
    "Alireza Rafiei - Fall 2022 - HW3"
   ]
  },
  {
   "cell_type": "markdown",
   "id": "842fe269",
   "metadata": {},
   "source": [
    "* #### Question #1: \n",
    "What is the difference between a pandas Series and a DataFrame?\n"
   ]
  },
  {
   "cell_type": "markdown",
   "id": "a52d95e4",
   "metadata": {},
   "source": [
    "The differences between a pandas Series and a DataFrame are manifold:\n",
    "<br>\n",
    "    * Pandas Series are one-dimentional while DataFrames are two-dimentional<br>\n",
    "    * Panda Series are Homogenous (Series elements must be of the same data type), but DataFrames are Heterogenous (DataFrame elements can have different data types)<br>\n",
    "    * Panda Series are Size-immutable, which means once created, the size of a Series object cannot be changed. However, DataFrames are size-mutable, which means elements can be dropped or added in an existing DataFrame.<br>"
   ]
  },
  {
   "cell_type": "markdown",
   "id": "de00fc34",
   "metadata": {},
   "source": [
    "* #### Question #2: \n",
    "Create a sample DataFrame and write a line of code for a quick statistic summary of your data in a DataFrame."
   ]
  },
  {
   "cell_type": "code",
   "execution_count": 1,
   "id": "881f29cb",
   "metadata": {},
   "outputs": [
    {
     "data": {
      "text/html": [
       "<div>\n",
       "<style scoped>\n",
       "    .dataframe tbody tr th:only-of-type {\n",
       "        vertical-align: middle;\n",
       "    }\n",
       "\n",
       "    .dataframe tbody tr th {\n",
       "        vertical-align: top;\n",
       "    }\n",
       "\n",
       "    .dataframe thead th {\n",
       "        text-align: right;\n",
       "    }\n",
       "</style>\n",
       "<table border=\"1\" class=\"dataframe\">\n",
       "  <thead>\n",
       "    <tr style=\"text-align: right;\">\n",
       "      <th></th>\n",
       "      <th>Age</th>\n",
       "      <th>Grade</th>\n",
       "      <th>Hight(cm)</th>\n",
       "    </tr>\n",
       "  </thead>\n",
       "  <tbody>\n",
       "    <tr>\n",
       "      <th>count</th>\n",
       "      <td>4.000000</td>\n",
       "      <td>4.000000</td>\n",
       "      <td>4.000000</td>\n",
       "    </tr>\n",
       "    <tr>\n",
       "      <th>mean</th>\n",
       "      <td>19.500000</td>\n",
       "      <td>3.450000</td>\n",
       "      <td>176.500000</td>\n",
       "    </tr>\n",
       "    <tr>\n",
       "      <th>std</th>\n",
       "      <td>1.290994</td>\n",
       "      <td>0.443471</td>\n",
       "      <td>6.137318</td>\n",
       "    </tr>\n",
       "    <tr>\n",
       "      <th>min</th>\n",
       "      <td>18.000000</td>\n",
       "      <td>2.900000</td>\n",
       "      <td>169.000000</td>\n",
       "    </tr>\n",
       "    <tr>\n",
       "      <th>25%</th>\n",
       "      <td>18.750000</td>\n",
       "      <td>3.200000</td>\n",
       "      <td>172.750000</td>\n",
       "    </tr>\n",
       "    <tr>\n",
       "      <th>50%</th>\n",
       "      <td>19.500000</td>\n",
       "      <td>3.500000</td>\n",
       "      <td>177.500000</td>\n",
       "    </tr>\n",
       "    <tr>\n",
       "      <th>75%</th>\n",
       "      <td>20.250000</td>\n",
       "      <td>3.750000</td>\n",
       "      <td>181.250000</td>\n",
       "    </tr>\n",
       "    <tr>\n",
       "      <th>max</th>\n",
       "      <td>21.000000</td>\n",
       "      <td>3.900000</td>\n",
       "      <td>182.000000</td>\n",
       "    </tr>\n",
       "  </tbody>\n",
       "</table>\n",
       "</div>"
      ],
      "text/plain": [
       "             Age     Grade   Hight(cm)\n",
       "count   4.000000  4.000000    4.000000\n",
       "mean   19.500000  3.450000  176.500000\n",
       "std     1.290994  0.443471    6.137318\n",
       "min    18.000000  2.900000  169.000000\n",
       "25%    18.750000  3.200000  172.750000\n",
       "50%    19.500000  3.500000  177.500000\n",
       "75%    20.250000  3.750000  181.250000\n",
       "max    21.000000  3.900000  182.000000"
      ]
     },
     "execution_count": 1,
     "metadata": {},
     "output_type": "execute_result"
    }
   ],
   "source": [
    "# Imporinting libraries\n",
    "import pandas as pd\n",
    "\n",
    "# Defining the Data for the creation of the DataFrame\n",
    "\n",
    "Data = {'Name': ['jack', 'Tom', 'nick', 'krish'],\n",
    "        'Age': [20, 21, 19, 18],\n",
    "        'Grade': [3.9,3.3,2.9,3.7],\n",
    "        'Hight(cm)': [174,182,169,181] }\n",
    "\n",
    "# Creating our DataFrame\n",
    "\n",
    "df = pd.DataFrame(Data)\n",
    "df.head()\n",
    "\n",
    "# Retrieving a quick statistic summary of your data in the DataFrame\n",
    "\n",
    "df.describe()\n",
    "\n"
   ]
  },
  {
   "cell_type": "markdown",
   "id": "3a9d005e",
   "metadata": {},
   "source": [
    "* #### Question #3: \n",
    "What are the different ways of selecting elements of a DataFrame?"
   ]
  },
  {
   "cell_type": "markdown",
   "id": "6d68f907",
   "metadata": {},
   "source": [
    "There are two major ways for selecting elements of a DataFrame. First, we can use a label based method using .loc function. An example for the previous DataFrame and .loc:<br>\n",
    "In: df.loc[df['Name']=='Tom', 'Age']<br>\n",
    "Out: = 1    21<br>\n",
    "Name: Age, dtype: int64<br><br>\n",
    "Second, we can use an integer position based method using .iloc function. An example for the previous DataFrame and .iloc:<br>\n",
    "In: df.iloc[3,2]<br>\n",
    "Out: = 3.7<br><br>\n",
    "\n",
    "\n"
   ]
  },
  {
   "cell_type": "markdown",
   "id": "37675629",
   "metadata": {},
   "source": [
    "* #### Question #4: \n",
    "What is sorting for categorical variables in pandas DataFrame based on?"
   ]
  },
  {
   "cell_type": "markdown",
   "id": "dc99f9db",
   "metadata": {},
   "source": [
    "The sorting for categorical variables in pandas DataFrame is based on the arbitrary provided order. In case there was not any assigned order, it would be based on alphabetical order."
   ]
  },
  {
   "cell_type": "markdown",
   "id": "0f7f2099",
   "metadata": {},
   "source": [
    "* #### Question #5: \n",
    "Create a pandas DataFrame containing three columns of randomly generated data. Plot the cumulative sum of each column with labels."
   ]
  },
  {
   "cell_type": "code",
   "execution_count": 3,
   "id": "178ec320",
   "metadata": {},
   "outputs": [
    {
     "name": "stdout",
     "output_type": "stream",
     "text": [
      "[[32, 18, 88], [58, 89, 82], [94, 73, 31]]\n"
     ]
    },
    {
     "data": {
      "text/plain": [
       "Text(0, 0.5, 'Value')"
      ]
     },
     "execution_count": 3,
     "metadata": {},
     "output_type": "execute_result"
    },
    {
     "data": {
      "image/png": "[encoded data removed]",
      "text/plain": [
       "<Figure size 432x1296 with 3 Axes>"
      ]
     },
     "metadata": {
      "needs_background": "light"
     },
     "output_type": "display_data"
    }
   ],
   "source": [
    "# Importing libraries\n",
    "import random\n",
    "import numpy as np\n",
    "import matplotlib.pyplot as plt\n",
    "\n",
    "RandomData = [[],[],[]]                                  \n",
    "\n",
    "for j in range(3):                                         # Generating RandomData variable \n",
    "    for i in range(3):\n",
    "        RandomData[i].append(random.randint(0,100))        # Generating random numbers btween 0 t0 100 for our DataFrame\n",
    "print(RandomData)\n",
    "df_random = pd.DataFrame(RandomData, index = ['Random_nums_1','Random_nums_2','Random_nums_3'], columns = ['Col1','Col2','Col3'])\n",
    "df_random.head()\n",
    "\n",
    "# Calculation and plotting cumulative sum of each column\n",
    "random_cumsum_1 = df_random['Col1'].cumsum()\n",
    "random_cumsum_2 = df_random['Col2'].cumsum()\n",
    "random_cumsum_3 = df_random['Col3'].cumsum()\n",
    "y = ['1','2','3']\n",
    "\n",
    "\n",
    "f, (ax1, ax2, ax3) = plt.subplots(3, 1,figsize=(6, 18),sharey=True)\n",
    "ax1.plot(y, random_cumsum_1,'o-')\n",
    "ax1.set_title('Cumulative sum of column #1')\n",
    "ax1.set_xlabel('Cumulative number')\n",
    "ax1.set_ylabel('Value')\n",
    "\n",
    "ax2.plot(y, random_cumsum_2,'o-')\n",
    "ax2.set_title('Cumulative sum of each column #2')\n",
    "ax2.set_xlabel('Cumulative number')\n",
    "ax2.set_ylabel('Value')\n",
    "\n",
    "ax3.plot(y, random_cumsum_3,'o-')\n",
    "ax3.set_title('Cumulative sum of each column #3')\n",
    "ax3.set_xlabel('Cumulative number')\n",
    "ax3.set_ylabel('Value')\n",
    "\n",
    "\n"
   ]
  },
  {
   "attachments": {
    "2022-09-07_14-05-58.jpg": {
     "image/jpeg": "[encoded data removed]"
    }
   },
   "cell_type": "markdown",
   "id": "fc6d6f95",
   "metadata": {},
   "source": [
    "* #### Question #6: \n",
    "List the age of each gender with the highest weight from the following DataFrame.\n",
    "![2022-09-07_14-05-58.jpg](attachment:2022-09-07_14-05-58.jpg)"
   ]
  },
  {
   "cell_type": "code",
   "execution_count": 4,
   "id": "5685f099",
   "metadata": {},
   "outputs": [
    {
     "data": {
      "text/plain": [
       "2    30\n",
       "0    23\n",
       "1    18\n",
       "3    20\n",
       "4    45\n",
       "Name: Age, dtype: int64"
      ]
     },
     "execution_count": 4,
     "metadata": {},
     "output_type": "execute_result"
    }
   ],
   "source": [
    "df = pd.DataFrame({'Name': 'Alex Tom Steve Clarke Sarah'.split(),\n",
    "                    'Age': [23, 18, 30, 20, 45],\n",
    "                    'weight': [151, 140, 180, 124, 120],\n",
    "                    'Gender': ['Male'] * 3 + ['Female'] * 2})\n",
    "\n",
    "df.sort_values(by=['weight'],ascending = False)[\"Age\"]"
   ]
  },
  {
   "cell_type": "markdown",
   "id": "bae10d4f",
   "metadata": {},
   "source": [
    "* #### Question #7: \n",
    "Replace the weight values higher than 150 with the mean value of weights in the DataFrame from the previous question."
   ]
  },
  {
   "cell_type": "code",
   "execution_count": 5,
   "id": "f4268cd4",
   "metadata": {},
   "outputs": [
    {
     "data": {
      "text/html": [
       "<div>\n",
       "<style scoped>\n",
       "    .dataframe tbody tr th:only-of-type {\n",
       "        vertical-align: middle;\n",
       "    }\n",
       "\n",
       "    .dataframe tbody tr th {\n",
       "        vertical-align: top;\n",
       "    }\n",
       "\n",
       "    .dataframe thead th {\n",
       "        text-align: right;\n",
       "    }\n",
       "</style>\n",
       "<table border=\"1\" class=\"dataframe\">\n",
       "  <thead>\n",
       "    <tr style=\"text-align: right;\">\n",
       "      <th></th>\n",
       "      <th>Name</th>\n",
       "      <th>Age</th>\n",
       "      <th>weight</th>\n",
       "      <th>Gender</th>\n",
       "    </tr>\n",
       "  </thead>\n",
       "  <tbody>\n",
       "    <tr>\n",
       "      <th>0</th>\n",
       "      <td>Alex</td>\n",
       "      <td>23</td>\n",
       "      <td>143</td>\n",
       "      <td>Male</td>\n",
       "    </tr>\n",
       "    <tr>\n",
       "      <th>1</th>\n",
       "      <td>Tom</td>\n",
       "      <td>18</td>\n",
       "      <td>140</td>\n",
       "      <td>Male</td>\n",
       "    </tr>\n",
       "    <tr>\n",
       "      <th>2</th>\n",
       "      <td>Steve</td>\n",
       "      <td>30</td>\n",
       "      <td>143</td>\n",
       "      <td>Male</td>\n",
       "    </tr>\n",
       "    <tr>\n",
       "      <th>3</th>\n",
       "      <td>Clarke</td>\n",
       "      <td>20</td>\n",
       "      <td>124</td>\n",
       "      <td>Female</td>\n",
       "    </tr>\n",
       "    <tr>\n",
       "      <th>4</th>\n",
       "      <td>Sarah</td>\n",
       "      <td>45</td>\n",
       "      <td>120</td>\n",
       "      <td>Female</td>\n",
       "    </tr>\n",
       "  </tbody>\n",
       "</table>\n",
       "</div>"
      ],
      "text/plain": [
       "     Name  Age  weight  Gender\n",
       "0    Alex   23     143    Male\n",
       "1     Tom   18     140    Male\n",
       "2   Steve   30     143    Male\n",
       "3  Clarke   20     124  Female\n",
       "4   Sarah   45     120  Female"
      ]
     },
     "execution_count": 5,
     "metadata": {},
     "output_type": "execute_result"
    }
   ],
   "source": [
    "df = pd.DataFrame({'Name': 'Alex Tom Steve Clarke Sarah'.split(),\n",
    "                    'Age': [23, 18, 30, 20, 45],\n",
    "                    'weight': [151, 140, 180, 124, 120],\n",
    "                    'Gender': ['Male'] * 3 + ['Female'] * 2})\n",
    "\n",
    "mean_weight = df['weight'].mean()\n",
    "df.loc[df['weight'] > 150, 'weight'] = mean_weight\n",
    "df.head()"
   ]
  },
  {
   "attachments": {
    "2022-09-09_21-19-11.jpg": {
     "image/jpeg": "[encoded data removed]"
    }
   },
   "cell_type": "markdown",
   "id": "42663f28",
   "metadata": {},
   "source": [
    "* #### Question #8: \n",
    "Create a value counts column and reassign back to the following DataFrame.\n",
    "![2022-09-09_21-19-11.jpg](attachment:2022-09-09_21-19-11.jpg)\n"
   ]
  },
  {
   "cell_type": "code",
   "execution_count": 6,
   "id": "f66d14f5",
   "metadata": {},
   "outputs": [
    {
     "data": {
      "text/html": [
       "<div>\n",
       "<style scoped>\n",
       "    .dataframe tbody tr th:only-of-type {\n",
       "        vertical-align: middle;\n",
       "    }\n",
       "\n",
       "    .dataframe tbody tr th {\n",
       "        vertical-align: top;\n",
       "    }\n",
       "\n",
       "    .dataframe thead th {\n",
       "        text-align: right;\n",
       "    }\n",
       "</style>\n",
       "<table border=\"1\" class=\"dataframe\">\n",
       "  <thead>\n",
       "    <tr style=\"text-align: right;\">\n",
       "      <th></th>\n",
       "      <th>Animal</th>\n",
       "      <th>weight</th>\n",
       "      <th>CountAnimal</th>\n",
       "      <th>Countweight</th>\n",
       "    </tr>\n",
       "  </thead>\n",
       "  <tbody>\n",
       "    <tr>\n",
       "      <th>0</th>\n",
       "      <td>cat</td>\n",
       "      <td>8</td>\n",
       "      <td>1</td>\n",
       "      <td>1</td>\n",
       "    </tr>\n",
       "    <tr>\n",
       "      <th>1</th>\n",
       "      <td>dog</td>\n",
       "      <td>10</td>\n",
       "      <td>3</td>\n",
       "      <td>1</td>\n",
       "    </tr>\n",
       "    <tr>\n",
       "      <th>2</th>\n",
       "      <td>dog</td>\n",
       "      <td>12</td>\n",
       "      <td>3</td>\n",
       "      <td>1</td>\n",
       "    </tr>\n",
       "    <tr>\n",
       "      <th>3</th>\n",
       "      <td>dog</td>\n",
       "      <td>11</td>\n",
       "      <td>3</td>\n",
       "      <td>1</td>\n",
       "    </tr>\n",
       "    <tr>\n",
       "      <th>4</th>\n",
       "      <td>fish</td>\n",
       "      <td>2</td>\n",
       "      <td>1</td>\n",
       "      <td>1</td>\n",
       "    </tr>\n",
       "  </tbody>\n",
       "</table>\n",
       "</div>"
      ],
      "text/plain": [
       "  Animal  weight  CountAnimal  Countweight\n",
       "0    cat       8            1            1\n",
       "1    dog      10            3            1\n",
       "2    dog      12            3            1\n",
       "3    dog      11            3            1\n",
       "4   fish       2            1            1"
      ]
     },
     "execution_count": 6,
     "metadata": {},
     "output_type": "execute_result"
    }
   ],
   "source": [
    "df = pd.DataFrame({'Animal': 'cat dog dog dog fish'.split(),\n",
    "                    'weight': [8, 10, 12, 11, 2]})\n",
    "\n",
    "for i in df.columns:\n",
    "    Counter = df[i].value_counts()\n",
    "    df['Count'+i] = df[i].map(Counter)\n",
    "    \n",
    "df.head()"
   ]
  }
 ],
 "metadata": {
  "kernelspec": {
   "display_name": "Python 3",
   "language": "python",
   "name": "python3"
  },
  "language_info": {
   "codemirror_mode": {
    "name": "ipython",
    "version": 3
   },
   "file_extension": ".py",
   "mimetype": "text/x-python",
   "name": "python",
   "nbconvert_exporter": "python",
   "pygments_lexer": "ipython3",
   "version": "3.7.3"
  }
 },
 "nbformat": 4,
 "nbformat_minor": 5
}
